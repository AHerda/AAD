{
 "cells": [
  {
   "cell_type": "code",
   "execution_count": 1,
   "id": "015628c4",
   "metadata": {},
   "outputs": [],
   "source": [
    "file_content = \"\"\n",
    "with open('pg244.txt', 'r', encoding='utf-8') as file:\n",
    "    file_content = file.read()"
   ]
  },
  {
   "cell_type": "markdown",
   "id": "b5e2f7d4",
   "metadata": {},
   "source": [
    "With full text file we can now extract the book"
   ]
  },
  {
   "cell_type": "code",
   "execution_count": 2,
   "id": "06143128",
   "metadata": {},
   "outputs": [],
   "source": [
    "book_content = file_content.split(\"***\")[2]"
   ]
  },
  {
   "cell_type": "markdown",
   "id": "f910c7a0",
   "metadata": {},
   "source": [
    "Now we change all non alphanumeric symbols to spaces so its easier to filter by splitting. Also we change all letters to lowercase"
   ]
  },
  {
   "cell_type": "code",
   "execution_count": 3,
   "id": "8041be28",
   "metadata": {},
   "outputs": [
    {
     "name": "stderr",
     "output_type": "stream",
     "text": [
      "<>:2: SyntaxWarning: invalid escape sequence '\\W'\n",
      "<>:2: SyntaxWarning: invalid escape sequence '\\W'\n",
      "/tmp/nix-shell.aDzXft/ipykernel_5108/4174425205.py:2: SyntaxWarning: invalid escape sequence '\\W'\n",
      "  book_content = re.sub('(\\W|_)', ' ', book_content)\n"
     ]
    }
   ],
   "source": [
    "import re\n",
    "book_content = re.sub('(\\W|_)', ' ', book_content)\n",
    "words = book_content.lower().split()"
   ]
  },
  {
   "cell_type": "markdown",
   "id": "b5339800",
   "metadata": {},
   "source": [
    "Now to the fun part, we have to collect all words and make a frequency list for each word of words that came after them. We are not removing the stop words as they are essential in making a coherent sentence. Which we are trying to achive."
   ]
  },
  {
   "cell_type": "code",
   "execution_count": 4,
   "id": "afd13dd9",
   "metadata": {},
   "outputs": [],
   "source": [
    "words_set = set(words)\n",
    "word_next_dict = {word: {} for word in words_set}"
   ]
  },
  {
   "cell_type": "markdown",
   "id": "d4180a39",
   "metadata": {},
   "source": [
    "Now we need to actually fill the dictionary with frequencies. We will loop through all words except the last one, and for each word we will look at the next word and update the frequency count in the dictionary."
   ]
  },
  {
   "cell_type": "code",
   "execution_count": 5,
   "id": "3459567c",
   "metadata": {},
   "outputs": [],
   "source": [
    "for i in range(len(words) - 1):\n",
    "    current_word = words[i]\n",
    "    next_word = words[i + 1]\n",
    "    if next_word in word_next_dict[current_word]:\n",
    "        word_next_dict[current_word][next_word] += 1\n",
    "    else:\n",
    "        word_next_dict[current_word][next_word] = 1\n"
   ]
  },
  {
   "cell_type": "markdown",
   "id": "40f9c096",
   "metadata": {},
   "source": [
    "Now we only have to decide how we start and end paragraph, i will choose to start it with words \"sherlock holmes\" as i want to check what would average paragraph about him sound like, and the end will be after 100 words."
   ]
  },
  {
   "cell_type": "code",
   "execution_count": 11,
   "id": "bdfde05e",
   "metadata": {},
   "outputs": [
    {
     "data": {
      "text/plain": [
       "'sherlock holmes said i have been a little girl could not a little girl could not a little girl could not a little girl could not a little girl could not a little girl could not a little girl could not a little girl could not a little girl could not a little girl could not a little girl could not a little girl could not a little girl could not a little girl could not a little girl could not a little girl could not a little girl could not a little girl could not a little girl could not a'"
      ]
     },
     "execution_count": 11,
     "metadata": {},
     "output_type": "execute_result"
    }
   ],
   "source": [
    "words_list = [\"sherlock\", \"holmes\"]\n",
    "for _ in range(100):\n",
    "    current_word = words_list[-1]\n",
    "    next_words = list(word_next_dict.get(current_word, {}).items())\n",
    "    next_words.sort(key=lambda x: x[1], reverse=True)\n",
    "    words_list.append(next_words[0][0])\n",
    "\n",
    "\" \".join(words_list)\n",
    "    "
   ]
  },
  {
   "cell_type": "markdown",
   "id": "48342600",
   "metadata": {},
   "source": [
    "We can also add a filter that will prevent looping of words, where if the word is in the sentence we choose the second most frequent not used word if such exist. If it doesnt we go back to the main idea."
   ]
  },
  {
   "cell_type": "code",
   "execution_count": 13,
   "id": "e65108bf",
   "metadata": {},
   "outputs": [
    {
     "data": {
      "text/plain": [
       "'sherlock holmes said i have been a little girl could not the man s private hotel and his face was no doubt that he had to be of it is there are you will do with my companion smiled an hour or more than once entered upon him as well known whenever we were all this morning they would come from her father in which hung over six feet above them on another occasion for some time before me now put your own mind when she answered but never seen together at last night if murder has shown by one point neither'"
      ]
     },
     "execution_count": 13,
     "metadata": {},
     "output_type": "execute_result"
    }
   ],
   "source": [
    "words_list = [\"sherlock\", \"holmes\"]\n",
    "for _ in range(100):\n",
    "    current_word = words_list[-1]\n",
    "    next_words = list(word_next_dict.get(current_word, {}).items())\n",
    "    next_words.sort(key=lambda x: x[1], reverse=True)\n",
    "    next_word = next_words[0][0]\n",
    "    if len(next_words) > 1:\n",
    "        for i in range(len(next_words)):\n",
    "            if next_words[i][0] not in words_list:\n",
    "                next_word = next_words[i][0]\n",
    "                break\n",
    "    words_list.append(next_word)\n",
    "\n",
    "\" \".join(words_list)"
   ]
  }
 ],
 "metadata": {
  "kernelspec": {
   "display_name": "Python 3 (ipykernel)",
   "language": "python",
   "name": "python3"
  }
 },
 "nbformat": 4,
 "nbformat_minor": 5
}
